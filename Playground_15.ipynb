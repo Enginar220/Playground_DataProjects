{
  "nbformat": 4,
  "nbformat_minor": 0,
  "metadata": {
    "colab": {
      "provenance": [],
      "authorship_tag": "ABX9TyPQ9Nu78fwJJmKU28KDEhCo",
      "include_colab_link": true
    },
    "kernelspec": {
      "name": "python3",
      "display_name": "Python 3"
    },
    "language_info": {
      "name": "python"
    }
  },
  "cells": [
    {
      "cell_type": "markdown",
      "metadata": {
        "id": "view-in-github",
        "colab_type": "text"
      },
      "source": [
        "<a href=\"https://colab.research.google.com/github/Enginar220/Playground_DataProjects/blob/main/Playground_15.ipynb\" target=\"_parent\"><img src=\"https://colab.research.google.com/assets/colab-badge.svg\" alt=\"Open In Colab\"/></a>"
      ]
    },
    {
      "cell_type": "markdown",
      "source": [
        "# Setting Up the Environment"
      ],
      "metadata": {
        "id": "Wdwcw3RIJ6d_"
      }
    },
    {
      "cell_type": "code",
      "source": [
        "from google.colab import drive\n",
        "drive.mount('/content/gdrive')"
      ],
      "metadata": {
        "colab": {
          "base_uri": "https://localhost:8080/"
        },
        "id": "rNzcg_BYJ63j",
        "outputId": "63a24d53-b053-4bdc-bc04-4dda0f6e6a94"
      },
      "execution_count": 1,
      "outputs": [
        {
          "output_type": "stream",
          "name": "stdout",
          "text": [
            "Mounted at /content/gdrive\n"
          ]
        }
      ]
    },
    {
      "cell_type": "code",
      "source": [
        "import pandas as pd\n",
        "import numpy as np"
      ],
      "metadata": {
        "id": "chCMZfPX_HsB"
      },
      "execution_count": 2,
      "outputs": []
    },
    {
      "cell_type": "code",
      "source": [
        "import os\n",
        "os.environ['KAGGLE_CONFIG_DIR'] = \"/content/gdrive/My Drive/Colab Notebooks/Kaggle\"\n",
        "# /content/gdrive/My Drive/Kaggle is the path where kaggle.json is present in the Google Drive"
      ],
      "metadata": {
        "id": "bzhEiJYazhdO"
      },
      "execution_count": 3,
      "outputs": []
    },
    {
      "cell_type": "code",
      "source": [
        "#changing the working directory\n",
        "%cd /content/gdrive/My Drive/Colab Notebooks/Kaggle\n",
        "#Check the present working directory using pwd command"
      ],
      "metadata": {
        "colab": {
          "base_uri": "https://localhost:8080/"
        },
        "id": "53KD1Iua1M1R",
        "outputId": "7529d4ca-a576-4410-d804-43e3de240325"
      },
      "execution_count": 4,
      "outputs": [
        {
          "output_type": "stream",
          "name": "stdout",
          "text": [
            "/content/gdrive/My Drive/Colab Notebooks/Kaggle\n"
          ]
        }
      ]
    },
    {
      "cell_type": "code",
      "source": [
        "!kaggle competitions download -c playground-series-s3e15\n",
        "\n",
        "!kaggle datasets download -d saurabhshahane/predicting-heat-flux"
      ],
      "metadata": {
        "colab": {
          "base_uri": "https://localhost:8080/"
        },
        "id": "koXkOEqK1_Ap",
        "outputId": "ff038cfc-6707-4d02-a1fb-aedff120b837"
      },
      "execution_count": 5,
      "outputs": [
        {
          "output_type": "stream",
          "name": "stdout",
          "text": [
            "Downloading playground-series-s3e15.zip to /content/gdrive/My Drive/Colab Notebooks/Kaggle\n",
            "100% 405k/405k [00:00<00:00, 772kB/s]\n",
            "100% 405k/405k [00:00<00:00, 769kB/s]\n",
            "Downloading predicting-heat-flux.zip to /content/gdrive/My Drive/Colab Notebooks/Kaggle\n",
            "  0% 0.00/19.2k [00:00<?, ?B/s]\n",
            "100% 19.2k/19.2k [00:00<00:00, 3.50MB/s]\n"
          ]
        }
      ]
    },
    {
      "cell_type": "code",
      "source": [
        "!ls"
      ],
      "metadata": {
        "colab": {
          "base_uri": "https://localhost:8080/"
        },
        "id": "wlP05m7T2KJY",
        "outputId": "22e6fa79-4e51-4e6e-e9f8-bf0853ad4ec8"
      },
      "execution_count": 6,
      "outputs": [
        {
          "output_type": "stream",
          "name": "stdout",
          "text": [
            "Data_CHF_Zhao_2020_ATE.csv  playground-series-s3e15.zip\n",
            "data.csv\t\t    predicting-heat-flux.zip\n",
            "kaggle.json\t\t    sample_submission.csv\n"
          ]
        }
      ]
    },
    {
      "cell_type": "code",
      "source": [
        "#unzipping the zip files and deleting the zip files\n",
        "!unzip \\*.zip  && rm *.zip"
      ],
      "metadata": {
        "colab": {
          "base_uri": "https://localhost:8080/"
        },
        "id": "c62CVonI2Lin",
        "outputId": "96079213-d3e9-4eaa-db68-c617a40aceac"
      },
      "execution_count": 7,
      "outputs": [
        {
          "output_type": "stream",
          "name": "stdout",
          "text": [
            "Archive:  playground-series-s3e15.zip\n",
            "replace data.csv? [y]es, [n]o, [A]ll, [N]one, [r]ename: y\n",
            "  inflating: data.csv                \n",
            "replace sample_submission.csv? [y]es, [n]o, [A]ll, [N]one, [r]ename: y\n",
            "  inflating: sample_submission.csv   \n",
            "\n",
            "Archive:  predicting-heat-flux.zip\n",
            "replace Data_CHF_Zhao_2020_ATE.csv? [y]es, [n]o, [A]ll, [N]one, [r]ename: y\n",
            "  inflating: Data_CHF_Zhao_2020_ATE.csv  \n",
            "\n",
            "2 archives were successfully processed.\n"
          ]
        }
      ]
    },
    {
      "cell_type": "code",
      "source": [
        "df = pd.read_csv(\"data.csv\") # The dataset that is generated using  Data_CHF_Zhao_2020_ATE\n",
        "df = df.drop([\"id\"], axis=1)\n",
        "\n",
        "df_original = pd.read_csv(\"Data_CHF_Zhao_2020_ATE.csv\") # The original dataset\n",
        "df_original = df_original.drop([\"id\"], axis=1)"
      ],
      "metadata": {
        "id": "o2bnSSzJ-YLo"
      },
      "execution_count": 18,
      "outputs": []
    },
    {
      "cell_type": "code",
      "source": [
        "df.head()"
      ],
      "metadata": {
        "colab": {
          "base_uri": "https://localhost:8080/",
          "height": 206
        },
        "id": "3AhwbnUC_Qxa",
        "outputId": "1c387877-252f-4813-b979-9b314f7b6edb"
      },
      "execution_count": 19,
      "outputs": [
        {
          "output_type": "execute_result",
          "data": {
            "text/plain": [
              "     author geometry  pressure [MPa]  mass_flux [kg/m2-s]  x_e_out [-]  \\\n",
              "0  Thompson     tube            7.00               3770.0       0.1754   \n",
              "1  Thompson     tube             NaN               6049.0      -0.0416   \n",
              "2  Thompson      NaN           13.79               2034.0       0.0335   \n",
              "3      Beus  annulus           13.79               3679.0      -0.0279   \n",
              "4       NaN     tube           13.79                686.0          NaN   \n",
              "\n",
              "   D_e [mm]  D_h [mm]  length [mm]  chf_exp [MW/m2]  \n",
              "0       NaN      10.8        432.0              3.6  \n",
              "1      10.3      10.3        762.0              6.2  \n",
              "2       7.7       7.7        457.0              2.5  \n",
              "3       5.6      15.2       2134.0              3.0  \n",
              "4      11.1      11.1        457.0              2.8  "
            ],
            "text/html": [
              "\n",
              "  <div id=\"df-b8dc9a1e-d35b-4bb7-b369-38d3f34a148a\">\n",
              "    <div class=\"colab-df-container\">\n",
              "      <div>\n",
              "<style scoped>\n",
              "    .dataframe tbody tr th:only-of-type {\n",
              "        vertical-align: middle;\n",
              "    }\n",
              "\n",
              "    .dataframe tbody tr th {\n",
              "        vertical-align: top;\n",
              "    }\n",
              "\n",
              "    .dataframe thead th {\n",
              "        text-align: right;\n",
              "    }\n",
              "</style>\n",
              "<table border=\"1\" class=\"dataframe\">\n",
              "  <thead>\n",
              "    <tr style=\"text-align: right;\">\n",
              "      <th></th>\n",
              "      <th>author</th>\n",
              "      <th>geometry</th>\n",
              "      <th>pressure [MPa]</th>\n",
              "      <th>mass_flux [kg/m2-s]</th>\n",
              "      <th>x_e_out [-]</th>\n",
              "      <th>D_e [mm]</th>\n",
              "      <th>D_h [mm]</th>\n",
              "      <th>length [mm]</th>\n",
              "      <th>chf_exp [MW/m2]</th>\n",
              "    </tr>\n",
              "  </thead>\n",
              "  <tbody>\n",
              "    <tr>\n",
              "      <th>0</th>\n",
              "      <td>Thompson</td>\n",
              "      <td>tube</td>\n",
              "      <td>7.00</td>\n",
              "      <td>3770.0</td>\n",
              "      <td>0.1754</td>\n",
              "      <td>NaN</td>\n",
              "      <td>10.8</td>\n",
              "      <td>432.0</td>\n",
              "      <td>3.6</td>\n",
              "    </tr>\n",
              "    <tr>\n",
              "      <th>1</th>\n",
              "      <td>Thompson</td>\n",
              "      <td>tube</td>\n",
              "      <td>NaN</td>\n",
              "      <td>6049.0</td>\n",
              "      <td>-0.0416</td>\n",
              "      <td>10.3</td>\n",
              "      <td>10.3</td>\n",
              "      <td>762.0</td>\n",
              "      <td>6.2</td>\n",
              "    </tr>\n",
              "    <tr>\n",
              "      <th>2</th>\n",
              "      <td>Thompson</td>\n",
              "      <td>NaN</td>\n",
              "      <td>13.79</td>\n",
              "      <td>2034.0</td>\n",
              "      <td>0.0335</td>\n",
              "      <td>7.7</td>\n",
              "      <td>7.7</td>\n",
              "      <td>457.0</td>\n",
              "      <td>2.5</td>\n",
              "    </tr>\n",
              "    <tr>\n",
              "      <th>3</th>\n",
              "      <td>Beus</td>\n",
              "      <td>annulus</td>\n",
              "      <td>13.79</td>\n",
              "      <td>3679.0</td>\n",
              "      <td>-0.0279</td>\n",
              "      <td>5.6</td>\n",
              "      <td>15.2</td>\n",
              "      <td>2134.0</td>\n",
              "      <td>3.0</td>\n",
              "    </tr>\n",
              "    <tr>\n",
              "      <th>4</th>\n",
              "      <td>NaN</td>\n",
              "      <td>tube</td>\n",
              "      <td>13.79</td>\n",
              "      <td>686.0</td>\n",
              "      <td>NaN</td>\n",
              "      <td>11.1</td>\n",
              "      <td>11.1</td>\n",
              "      <td>457.0</td>\n",
              "      <td>2.8</td>\n",
              "    </tr>\n",
              "  </tbody>\n",
              "</table>\n",
              "</div>\n",
              "      <button class=\"colab-df-convert\" onclick=\"convertToInteractive('df-b8dc9a1e-d35b-4bb7-b369-38d3f34a148a')\"\n",
              "              title=\"Convert this dataframe to an interactive table.\"\n",
              "              style=\"display:none;\">\n",
              "        \n",
              "  <svg xmlns=\"http://www.w3.org/2000/svg\" height=\"24px\"viewBox=\"0 0 24 24\"\n",
              "       width=\"24px\">\n",
              "    <path d=\"M0 0h24v24H0V0z\" fill=\"none\"/>\n",
              "    <path d=\"M18.56 5.44l.94 2.06.94-2.06 2.06-.94-2.06-.94-.94-2.06-.94 2.06-2.06.94zm-11 1L8.5 8.5l.94-2.06 2.06-.94-2.06-.94L8.5 2.5l-.94 2.06-2.06.94zm10 10l.94 2.06.94-2.06 2.06-.94-2.06-.94-.94-2.06-.94 2.06-2.06.94z\"/><path d=\"M17.41 7.96l-1.37-1.37c-.4-.4-.92-.59-1.43-.59-.52 0-1.04.2-1.43.59L10.3 9.45l-7.72 7.72c-.78.78-.78 2.05 0 2.83L4 21.41c.39.39.9.59 1.41.59.51 0 1.02-.2 1.41-.59l7.78-7.78 2.81-2.81c.8-.78.8-2.07 0-2.86zM5.41 20L4 18.59l7.72-7.72 1.47 1.35L5.41 20z\"/>\n",
              "  </svg>\n",
              "      </button>\n",
              "      \n",
              "  <style>\n",
              "    .colab-df-container {\n",
              "      display:flex;\n",
              "      flex-wrap:wrap;\n",
              "      gap: 12px;\n",
              "    }\n",
              "\n",
              "    .colab-df-convert {\n",
              "      background-color: #E8F0FE;\n",
              "      border: none;\n",
              "      border-radius: 50%;\n",
              "      cursor: pointer;\n",
              "      display: none;\n",
              "      fill: #1967D2;\n",
              "      height: 32px;\n",
              "      padding: 0 0 0 0;\n",
              "      width: 32px;\n",
              "    }\n",
              "\n",
              "    .colab-df-convert:hover {\n",
              "      background-color: #E2EBFA;\n",
              "      box-shadow: 0px 1px 2px rgba(60, 64, 67, 0.3), 0px 1px 3px 1px rgba(60, 64, 67, 0.15);\n",
              "      fill: #174EA6;\n",
              "    }\n",
              "\n",
              "    [theme=dark] .colab-df-convert {\n",
              "      background-color: #3B4455;\n",
              "      fill: #D2E3FC;\n",
              "    }\n",
              "\n",
              "    [theme=dark] .colab-df-convert:hover {\n",
              "      background-color: #434B5C;\n",
              "      box-shadow: 0px 1px 3px 1px rgba(0, 0, 0, 0.15);\n",
              "      filter: drop-shadow(0px 1px 2px rgba(0, 0, 0, 0.3));\n",
              "      fill: #FFFFFF;\n",
              "    }\n",
              "  </style>\n",
              "\n",
              "      <script>\n",
              "        const buttonEl =\n",
              "          document.querySelector('#df-b8dc9a1e-d35b-4bb7-b369-38d3f34a148a button.colab-df-convert');\n",
              "        buttonEl.style.display =\n",
              "          google.colab.kernel.accessAllowed ? 'block' : 'none';\n",
              "\n",
              "        async function convertToInteractive(key) {\n",
              "          const element = document.querySelector('#df-b8dc9a1e-d35b-4bb7-b369-38d3f34a148a');\n",
              "          const dataTable =\n",
              "            await google.colab.kernel.invokeFunction('convertToInteractive',\n",
              "                                                     [key], {});\n",
              "          if (!dataTable) return;\n",
              "\n",
              "          const docLinkHtml = 'Like what you see? Visit the ' +\n",
              "            '<a target=\"_blank\" href=https://colab.research.google.com/notebooks/data_table.ipynb>data table notebook</a>'\n",
              "            + ' to learn more about interactive tables.';\n",
              "          element.innerHTML = '';\n",
              "          dataTable['output_type'] = 'display_data';\n",
              "          await google.colab.output.renderOutput(dataTable, element);\n",
              "          const docLink = document.createElement('div');\n",
              "          docLink.innerHTML = docLinkHtml;\n",
              "          element.appendChild(docLink);\n",
              "        }\n",
              "      </script>\n",
              "    </div>\n",
              "  </div>\n",
              "  "
            ]
          },
          "metadata": {},
          "execution_count": 19
        }
      ]
    },
    {
      "cell_type": "code",
      "source": [
        "df.shape"
      ],
      "metadata": {
        "colab": {
          "base_uri": "https://localhost:8080/"
        },
        "id": "tNMKEB8s_Ry1",
        "outputId": "d2915763-6a65-4447-8dc6-50e7ace4a3f7"
      },
      "execution_count": 20,
      "outputs": [
        {
          "output_type": "execute_result",
          "data": {
            "text/plain": [
              "(31644, 9)"
            ]
          },
          "metadata": {},
          "execution_count": 20
        }
      ]
    },
    {
      "cell_type": "code",
      "source": [
        "df.info()"
      ],
      "metadata": {
        "colab": {
          "base_uri": "https://localhost:8080/"
        },
        "id": "CxvicoNNB4-_",
        "outputId": "006d4184-4ae1-4c10-ca9e-257c7dd5cb38"
      },
      "execution_count": 21,
      "outputs": [
        {
          "output_type": "stream",
          "name": "stdout",
          "text": [
            "<class 'pandas.core.frame.DataFrame'>\n",
            "RangeIndex: 31644 entries, 0 to 31643\n",
            "Data columns (total 9 columns):\n",
            " #   Column               Non-Null Count  Dtype  \n",
            "---  ------               --------------  -----  \n",
            " 0   author               26620 non-null  object \n",
            " 1   geometry             26144 non-null  object \n",
            " 2   pressure [MPa]       27192 non-null  float64\n",
            " 3   mass_flux [kg/m2-s]  26853 non-null  float64\n",
            " 4   x_e_out [-]          21229 non-null  float64\n",
            " 5   D_e [mm]             26156 non-null  float64\n",
            " 6   D_h [mm]             27055 non-null  float64\n",
            " 7   length [mm]          26885 non-null  float64\n",
            " 8   chf_exp [MW/m2]      31644 non-null  float64\n",
            "dtypes: float64(7), object(2)\n",
            "memory usage: 2.2+ MB\n"
          ]
        }
      ]
    },
    {
      "cell_type": "code",
      "source": [
        "df_original.head()"
      ],
      "metadata": {
        "colab": {
          "base_uri": "https://localhost:8080/",
          "height": 206
        },
        "id": "L-aIJDweEEuW",
        "outputId": "7064d5d7-5688-4202-bfb1-b211083d14d3"
      },
      "execution_count": 22,
      "outputs": [
        {
          "output_type": "execute_result",
          "data": {
            "text/plain": [
              "    author geometry  pressure [MPa]  mass_flux [kg/m2-s]  x_e_out [-]  \\\n",
              "0  Inasaka     tube            0.39                 5600      -0.1041   \n",
              "1  Inasaka     tube            0.31                 6700      -0.0596   \n",
              "2  Inasaka     tube            0.33                 4300      -0.0395   \n",
              "3  Inasaka     tube            0.62                 6400      -0.1460   \n",
              "4  Inasaka     tube            0.64                 4700      -0.0849   \n",
              "\n",
              "   D_e [mm]  D_h [mm]  length [mm]  chf_exp [MW/m2]  \n",
              "0       3.0       3.0          100             11.3  \n",
              "1       3.0       3.0          100             10.6  \n",
              "2       3.0       3.0          100              7.3  \n",
              "3       3.0       3.0          100             12.8  \n",
              "4       3.0       3.0          100             11.0  "
            ],
            "text/html": [
              "\n",
              "  <div id=\"df-782adb78-49f4-46df-9c5b-b838a2a42db7\">\n",
              "    <div class=\"colab-df-container\">\n",
              "      <div>\n",
              "<style scoped>\n",
              "    .dataframe tbody tr th:only-of-type {\n",
              "        vertical-align: middle;\n",
              "    }\n",
              "\n",
              "    .dataframe tbody tr th {\n",
              "        vertical-align: top;\n",
              "    }\n",
              "\n",
              "    .dataframe thead th {\n",
              "        text-align: right;\n",
              "    }\n",
              "</style>\n",
              "<table border=\"1\" class=\"dataframe\">\n",
              "  <thead>\n",
              "    <tr style=\"text-align: right;\">\n",
              "      <th></th>\n",
              "      <th>author</th>\n",
              "      <th>geometry</th>\n",
              "      <th>pressure [MPa]</th>\n",
              "      <th>mass_flux [kg/m2-s]</th>\n",
              "      <th>x_e_out [-]</th>\n",
              "      <th>D_e [mm]</th>\n",
              "      <th>D_h [mm]</th>\n",
              "      <th>length [mm]</th>\n",
              "      <th>chf_exp [MW/m2]</th>\n",
              "    </tr>\n",
              "  </thead>\n",
              "  <tbody>\n",
              "    <tr>\n",
              "      <th>0</th>\n",
              "      <td>Inasaka</td>\n",
              "      <td>tube</td>\n",
              "      <td>0.39</td>\n",
              "      <td>5600</td>\n",
              "      <td>-0.1041</td>\n",
              "      <td>3.0</td>\n",
              "      <td>3.0</td>\n",
              "      <td>100</td>\n",
              "      <td>11.3</td>\n",
              "    </tr>\n",
              "    <tr>\n",
              "      <th>1</th>\n",
              "      <td>Inasaka</td>\n",
              "      <td>tube</td>\n",
              "      <td>0.31</td>\n",
              "      <td>6700</td>\n",
              "      <td>-0.0596</td>\n",
              "      <td>3.0</td>\n",
              "      <td>3.0</td>\n",
              "      <td>100</td>\n",
              "      <td>10.6</td>\n",
              "    </tr>\n",
              "    <tr>\n",
              "      <th>2</th>\n",
              "      <td>Inasaka</td>\n",
              "      <td>tube</td>\n",
              "      <td>0.33</td>\n",
              "      <td>4300</td>\n",
              "      <td>-0.0395</td>\n",
              "      <td>3.0</td>\n",
              "      <td>3.0</td>\n",
              "      <td>100</td>\n",
              "      <td>7.3</td>\n",
              "    </tr>\n",
              "    <tr>\n",
              "      <th>3</th>\n",
              "      <td>Inasaka</td>\n",
              "      <td>tube</td>\n",
              "      <td>0.62</td>\n",
              "      <td>6400</td>\n",
              "      <td>-0.1460</td>\n",
              "      <td>3.0</td>\n",
              "      <td>3.0</td>\n",
              "      <td>100</td>\n",
              "      <td>12.8</td>\n",
              "    </tr>\n",
              "    <tr>\n",
              "      <th>4</th>\n",
              "      <td>Inasaka</td>\n",
              "      <td>tube</td>\n",
              "      <td>0.64</td>\n",
              "      <td>4700</td>\n",
              "      <td>-0.0849</td>\n",
              "      <td>3.0</td>\n",
              "      <td>3.0</td>\n",
              "      <td>100</td>\n",
              "      <td>11.0</td>\n",
              "    </tr>\n",
              "  </tbody>\n",
              "</table>\n",
              "</div>\n",
              "      <button class=\"colab-df-convert\" onclick=\"convertToInteractive('df-782adb78-49f4-46df-9c5b-b838a2a42db7')\"\n",
              "              title=\"Convert this dataframe to an interactive table.\"\n",
              "              style=\"display:none;\">\n",
              "        \n",
              "  <svg xmlns=\"http://www.w3.org/2000/svg\" height=\"24px\"viewBox=\"0 0 24 24\"\n",
              "       width=\"24px\">\n",
              "    <path d=\"M0 0h24v24H0V0z\" fill=\"none\"/>\n",
              "    <path d=\"M18.56 5.44l.94 2.06.94-2.06 2.06-.94-2.06-.94-.94-2.06-.94 2.06-2.06.94zm-11 1L8.5 8.5l.94-2.06 2.06-.94-2.06-.94L8.5 2.5l-.94 2.06-2.06.94zm10 10l.94 2.06.94-2.06 2.06-.94-2.06-.94-.94-2.06-.94 2.06-2.06.94z\"/><path d=\"M17.41 7.96l-1.37-1.37c-.4-.4-.92-.59-1.43-.59-.52 0-1.04.2-1.43.59L10.3 9.45l-7.72 7.72c-.78.78-.78 2.05 0 2.83L4 21.41c.39.39.9.59 1.41.59.51 0 1.02-.2 1.41-.59l7.78-7.78 2.81-2.81c.8-.78.8-2.07 0-2.86zM5.41 20L4 18.59l7.72-7.72 1.47 1.35L5.41 20z\"/>\n",
              "  </svg>\n",
              "      </button>\n",
              "      \n",
              "  <style>\n",
              "    .colab-df-container {\n",
              "      display:flex;\n",
              "      flex-wrap:wrap;\n",
              "      gap: 12px;\n",
              "    }\n",
              "\n",
              "    .colab-df-convert {\n",
              "      background-color: #E8F0FE;\n",
              "      border: none;\n",
              "      border-radius: 50%;\n",
              "      cursor: pointer;\n",
              "      display: none;\n",
              "      fill: #1967D2;\n",
              "      height: 32px;\n",
              "      padding: 0 0 0 0;\n",
              "      width: 32px;\n",
              "    }\n",
              "\n",
              "    .colab-df-convert:hover {\n",
              "      background-color: #E2EBFA;\n",
              "      box-shadow: 0px 1px 2px rgba(60, 64, 67, 0.3), 0px 1px 3px 1px rgba(60, 64, 67, 0.15);\n",
              "      fill: #174EA6;\n",
              "    }\n",
              "\n",
              "    [theme=dark] .colab-df-convert {\n",
              "      background-color: #3B4455;\n",
              "      fill: #D2E3FC;\n",
              "    }\n",
              "\n",
              "    [theme=dark] .colab-df-convert:hover {\n",
              "      background-color: #434B5C;\n",
              "      box-shadow: 0px 1px 3px 1px rgba(0, 0, 0, 0.15);\n",
              "      filter: drop-shadow(0px 1px 2px rgba(0, 0, 0, 0.3));\n",
              "      fill: #FFFFFF;\n",
              "    }\n",
              "  </style>\n",
              "\n",
              "      <script>\n",
              "        const buttonEl =\n",
              "          document.querySelector('#df-782adb78-49f4-46df-9c5b-b838a2a42db7 button.colab-df-convert');\n",
              "        buttonEl.style.display =\n",
              "          google.colab.kernel.accessAllowed ? 'block' : 'none';\n",
              "\n",
              "        async function convertToInteractive(key) {\n",
              "          const element = document.querySelector('#df-782adb78-49f4-46df-9c5b-b838a2a42db7');\n",
              "          const dataTable =\n",
              "            await google.colab.kernel.invokeFunction('convertToInteractive',\n",
              "                                                     [key], {});\n",
              "          if (!dataTable) return;\n",
              "\n",
              "          const docLinkHtml = 'Like what you see? Visit the ' +\n",
              "            '<a target=\"_blank\" href=https://colab.research.google.com/notebooks/data_table.ipynb>data table notebook</a>'\n",
              "            + ' to learn more about interactive tables.';\n",
              "          element.innerHTML = '';\n",
              "          dataTable['output_type'] = 'display_data';\n",
              "          await google.colab.output.renderOutput(dataTable, element);\n",
              "          const docLink = document.createElement('div');\n",
              "          docLink.innerHTML = docLinkHtml;\n",
              "          element.appendChild(docLink);\n",
              "        }\n",
              "      </script>\n",
              "    </div>\n",
              "  </div>\n",
              "  "
            ]
          },
          "metadata": {},
          "execution_count": 22
        }
      ]
    },
    {
      "cell_type": "code",
      "source": [
        "df_original.shape"
      ],
      "metadata": {
        "colab": {
          "base_uri": "https://localhost:8080/"
        },
        "id": "B-e3Q4ZUEMlU",
        "outputId": "25d92124-37b9-4649-8678-c164e7c5de64"
      },
      "execution_count": 23,
      "outputs": [
        {
          "output_type": "execute_result",
          "data": {
            "text/plain": [
              "(1865, 9)"
            ]
          },
          "metadata": {},
          "execution_count": 23
        }
      ]
    },
    {
      "cell_type": "code",
      "source": [
        "df_original.info()"
      ],
      "metadata": {
        "colab": {
          "base_uri": "https://localhost:8080/"
        },
        "id": "Sz5F28IaEMnk",
        "outputId": "717fcc85-0c7a-498e-ae21-f26b5ab8921f"
      },
      "execution_count": 24,
      "outputs": [
        {
          "output_type": "stream",
          "name": "stdout",
          "text": [
            "<class 'pandas.core.frame.DataFrame'>\n",
            "RangeIndex: 1865 entries, 0 to 1864\n",
            "Data columns (total 9 columns):\n",
            " #   Column               Non-Null Count  Dtype  \n",
            "---  ------               --------------  -----  \n",
            " 0   author               1865 non-null   object \n",
            " 1   geometry             1865 non-null   object \n",
            " 2   pressure [MPa]       1865 non-null   float64\n",
            " 3   mass_flux [kg/m2-s]  1865 non-null   int64  \n",
            " 4   x_e_out [-]          1865 non-null   float64\n",
            " 5   D_e [mm]             1865 non-null   float64\n",
            " 6   D_h [mm]             1865 non-null   float64\n",
            " 7   length [mm]          1865 non-null   int64  \n",
            " 8   chf_exp [MW/m2]      1865 non-null   float64\n",
            "dtypes: float64(5), int64(2), object(2)\n",
            "memory usage: 131.3+ KB\n"
          ]
        }
      ]
    },
    {
      "cell_type": "markdown",
      "source": [
        "### Objective of The Notebook\n",
        "We want to predict the missing values belonging to the column \"x_e_out[-]\" (with the corresponding row id) for the artificial data (df)."
      ],
      "metadata": {
        "id": "bTu_E_hVEZNo"
      }
    },
    {
      "cell_type": "code",
      "source": [
        "# Concatenate the dataframes\n",
        "df_full = pd.concat([df, df_original])\n",
        "\n",
        "# Reset the index of the concatenated dataframe\n",
        "df_full = df_full.reset_index(drop=True)\n",
        "\n",
        "df_full.head()"
      ],
      "metadata": {
        "id": "TP8QjFLfCd8F",
        "colab": {
          "base_uri": "https://localhost:8080/",
          "height": 206
        },
        "outputId": "8da81da4-73c8-42da-8975-5bf115f02e5c"
      },
      "execution_count": 25,
      "outputs": [
        {
          "output_type": "execute_result",
          "data": {
            "text/plain": [
              "     author geometry  pressure [MPa]  mass_flux [kg/m2-s]  x_e_out [-]  \\\n",
              "0  Thompson     tube            7.00               3770.0       0.1754   \n",
              "1  Thompson     tube             NaN               6049.0      -0.0416   \n",
              "2  Thompson      NaN           13.79               2034.0       0.0335   \n",
              "3      Beus  annulus           13.79               3679.0      -0.0279   \n",
              "4       NaN     tube           13.79                686.0          NaN   \n",
              "\n",
              "   D_e [mm]  D_h [mm]  length [mm]  chf_exp [MW/m2]  \n",
              "0       NaN      10.8        432.0              3.6  \n",
              "1      10.3      10.3        762.0              6.2  \n",
              "2       7.7       7.7        457.0              2.5  \n",
              "3       5.6      15.2       2134.0              3.0  \n",
              "4      11.1      11.1        457.0              2.8  "
            ],
            "text/html": [
              "\n",
              "  <div id=\"df-45a08a24-a07b-44e4-a5db-e740eb7dec76\">\n",
              "    <div class=\"colab-df-container\">\n",
              "      <div>\n",
              "<style scoped>\n",
              "    .dataframe tbody tr th:only-of-type {\n",
              "        vertical-align: middle;\n",
              "    }\n",
              "\n",
              "    .dataframe tbody tr th {\n",
              "        vertical-align: top;\n",
              "    }\n",
              "\n",
              "    .dataframe thead th {\n",
              "        text-align: right;\n",
              "    }\n",
              "</style>\n",
              "<table border=\"1\" class=\"dataframe\">\n",
              "  <thead>\n",
              "    <tr style=\"text-align: right;\">\n",
              "      <th></th>\n",
              "      <th>author</th>\n",
              "      <th>geometry</th>\n",
              "      <th>pressure [MPa]</th>\n",
              "      <th>mass_flux [kg/m2-s]</th>\n",
              "      <th>x_e_out [-]</th>\n",
              "      <th>D_e [mm]</th>\n",
              "      <th>D_h [mm]</th>\n",
              "      <th>length [mm]</th>\n",
              "      <th>chf_exp [MW/m2]</th>\n",
              "    </tr>\n",
              "  </thead>\n",
              "  <tbody>\n",
              "    <tr>\n",
              "      <th>0</th>\n",
              "      <td>Thompson</td>\n",
              "      <td>tube</td>\n",
              "      <td>7.00</td>\n",
              "      <td>3770.0</td>\n",
              "      <td>0.1754</td>\n",
              "      <td>NaN</td>\n",
              "      <td>10.8</td>\n",
              "      <td>432.0</td>\n",
              "      <td>3.6</td>\n",
              "    </tr>\n",
              "    <tr>\n",
              "      <th>1</th>\n",
              "      <td>Thompson</td>\n",
              "      <td>tube</td>\n",
              "      <td>NaN</td>\n",
              "      <td>6049.0</td>\n",
              "      <td>-0.0416</td>\n",
              "      <td>10.3</td>\n",
              "      <td>10.3</td>\n",
              "      <td>762.0</td>\n",
              "      <td>6.2</td>\n",
              "    </tr>\n",
              "    <tr>\n",
              "      <th>2</th>\n",
              "      <td>Thompson</td>\n",
              "      <td>NaN</td>\n",
              "      <td>13.79</td>\n",
              "      <td>2034.0</td>\n",
              "      <td>0.0335</td>\n",
              "      <td>7.7</td>\n",
              "      <td>7.7</td>\n",
              "      <td>457.0</td>\n",
              "      <td>2.5</td>\n",
              "    </tr>\n",
              "    <tr>\n",
              "      <th>3</th>\n",
              "      <td>Beus</td>\n",
              "      <td>annulus</td>\n",
              "      <td>13.79</td>\n",
              "      <td>3679.0</td>\n",
              "      <td>-0.0279</td>\n",
              "      <td>5.6</td>\n",
              "      <td>15.2</td>\n",
              "      <td>2134.0</td>\n",
              "      <td>3.0</td>\n",
              "    </tr>\n",
              "    <tr>\n",
              "      <th>4</th>\n",
              "      <td>NaN</td>\n",
              "      <td>tube</td>\n",
              "      <td>13.79</td>\n",
              "      <td>686.0</td>\n",
              "      <td>NaN</td>\n",
              "      <td>11.1</td>\n",
              "      <td>11.1</td>\n",
              "      <td>457.0</td>\n",
              "      <td>2.8</td>\n",
              "    </tr>\n",
              "  </tbody>\n",
              "</table>\n",
              "</div>\n",
              "      <button class=\"colab-df-convert\" onclick=\"convertToInteractive('df-45a08a24-a07b-44e4-a5db-e740eb7dec76')\"\n",
              "              title=\"Convert this dataframe to an interactive table.\"\n",
              "              style=\"display:none;\">\n",
              "        \n",
              "  <svg xmlns=\"http://www.w3.org/2000/svg\" height=\"24px\"viewBox=\"0 0 24 24\"\n",
              "       width=\"24px\">\n",
              "    <path d=\"M0 0h24v24H0V0z\" fill=\"none\"/>\n",
              "    <path d=\"M18.56 5.44l.94 2.06.94-2.06 2.06-.94-2.06-.94-.94-2.06-.94 2.06-2.06.94zm-11 1L8.5 8.5l.94-2.06 2.06-.94-2.06-.94L8.5 2.5l-.94 2.06-2.06.94zm10 10l.94 2.06.94-2.06 2.06-.94-2.06-.94-.94-2.06-.94 2.06-2.06.94z\"/><path d=\"M17.41 7.96l-1.37-1.37c-.4-.4-.92-.59-1.43-.59-.52 0-1.04.2-1.43.59L10.3 9.45l-7.72 7.72c-.78.78-.78 2.05 0 2.83L4 21.41c.39.39.9.59 1.41.59.51 0 1.02-.2 1.41-.59l7.78-7.78 2.81-2.81c.8-.78.8-2.07 0-2.86zM5.41 20L4 18.59l7.72-7.72 1.47 1.35L5.41 20z\"/>\n",
              "  </svg>\n",
              "      </button>\n",
              "      \n",
              "  <style>\n",
              "    .colab-df-container {\n",
              "      display:flex;\n",
              "      flex-wrap:wrap;\n",
              "      gap: 12px;\n",
              "    }\n",
              "\n",
              "    .colab-df-convert {\n",
              "      background-color: #E8F0FE;\n",
              "      border: none;\n",
              "      border-radius: 50%;\n",
              "      cursor: pointer;\n",
              "      display: none;\n",
              "      fill: #1967D2;\n",
              "      height: 32px;\n",
              "      padding: 0 0 0 0;\n",
              "      width: 32px;\n",
              "    }\n",
              "\n",
              "    .colab-df-convert:hover {\n",
              "      background-color: #E2EBFA;\n",
              "      box-shadow: 0px 1px 2px rgba(60, 64, 67, 0.3), 0px 1px 3px 1px rgba(60, 64, 67, 0.15);\n",
              "      fill: #174EA6;\n",
              "    }\n",
              "\n",
              "    [theme=dark] .colab-df-convert {\n",
              "      background-color: #3B4455;\n",
              "      fill: #D2E3FC;\n",
              "    }\n",
              "\n",
              "    [theme=dark] .colab-df-convert:hover {\n",
              "      background-color: #434B5C;\n",
              "      box-shadow: 0px 1px 3px 1px rgba(0, 0, 0, 0.15);\n",
              "      filter: drop-shadow(0px 1px 2px rgba(0, 0, 0, 0.3));\n",
              "      fill: #FFFFFF;\n",
              "    }\n",
              "  </style>\n",
              "\n",
              "      <script>\n",
              "        const buttonEl =\n",
              "          document.querySelector('#df-45a08a24-a07b-44e4-a5db-e740eb7dec76 button.colab-df-convert');\n",
              "        buttonEl.style.display =\n",
              "          google.colab.kernel.accessAllowed ? 'block' : 'none';\n",
              "\n",
              "        async function convertToInteractive(key) {\n",
              "          const element = document.querySelector('#df-45a08a24-a07b-44e4-a5db-e740eb7dec76');\n",
              "          const dataTable =\n",
              "            await google.colab.kernel.invokeFunction('convertToInteractive',\n",
              "                                                     [key], {});\n",
              "          if (!dataTable) return;\n",
              "\n",
              "          const docLinkHtml = 'Like what you see? Visit the ' +\n",
              "            '<a target=\"_blank\" href=https://colab.research.google.com/notebooks/data_table.ipynb>data table notebook</a>'\n",
              "            + ' to learn more about interactive tables.';\n",
              "          element.innerHTML = '';\n",
              "          dataTable['output_type'] = 'display_data';\n",
              "          await google.colab.output.renderOutput(dataTable, element);\n",
              "          const docLink = document.createElement('div');\n",
              "          docLink.innerHTML = docLinkHtml;\n",
              "          element.appendChild(docLink);\n",
              "        }\n",
              "      </script>\n",
              "    </div>\n",
              "  </div>\n",
              "  "
            ]
          },
          "metadata": {},
          "execution_count": 25
        }
      ]
    },
    {
      "cell_type": "code",
      "source": [
        "X_train0 = df_full[df_full[\"x_e_out [-]\"].notnull()].drop([\"x_e_out [-]\"], axis=1)\n",
        "y_train0 = df_full[\"x_e_out [-]\"].dropna()\n",
        "\n",
        "X_test0 = df_full[df_full[\"x_e_out [-]\"].isnull()].drop([\"x_e_out [-]\"], axis=1)"
      ],
      "metadata": {
        "id": "s1GtRgCdV1fr"
      },
      "execution_count": 70,
      "outputs": []
    },
    {
      "cell_type": "code",
      "source": [
        "#Firstly, what I want to try is to fill the NaN values in the 'x_e_out [-]' column with the mean of the available values.\n",
        "\n",
        "\n",
        "first_try = df_full[df_full[\"x_e_out [-]\"].isnull()].fillna(df_full['x_e_out [-]'].mean())[\"x_e_out [-]\"]\n",
        "\n",
        "first_try.head()"
      ],
      "metadata": {
        "colab": {
          "base_uri": "https://localhost:8080/"
        },
        "id": "dAnD03hHijfM",
        "outputId": "a5d8b61d-0d38-4e81-aee0-e8711c54aadf"
      },
      "execution_count": 81,
      "outputs": [
        {
          "output_type": "execute_result",
          "data": {
            "text/plain": [
              "4     0.00089\n",
              "7     0.00089\n",
              "10    0.00089\n",
              "12    0.00089\n",
              "23    0.00089\n",
              "Name: x_e_out [-], dtype: float64"
            ]
          },
          "metadata": {},
          "execution_count": 81
        }
      ]
    },
    {
      "cell_type": "code",
      "source": [
        "#Format of the submission should be looking as follows;\n",
        "\n",
        "df_sub = pd.read_csv(\"sample_submission.csv\")\n",
        "\n",
        "df_sub.head()"
      ],
      "metadata": {
        "colab": {
          "base_uri": "https://localhost:8080/",
          "height": 206
        },
        "id": "F-9fCI5_kKNC",
        "outputId": "55ad15fd-3360-47f9-d877-7814c49f57f5"
      },
      "execution_count": 85,
      "outputs": [
        {
          "output_type": "execute_result",
          "data": {
            "text/plain": [
              "   id  x_e_out [-]\n",
              "0   4          0.0\n",
              "1   7          0.0\n",
              "2  10          0.0\n",
              "3  12          0.0\n",
              "4  23          0.0"
            ],
            "text/html": [
              "\n",
              "  <div id=\"df-8a397813-f63f-4d86-bc27-f801201ad2a2\">\n",
              "    <div class=\"colab-df-container\">\n",
              "      <div>\n",
              "<style scoped>\n",
              "    .dataframe tbody tr th:only-of-type {\n",
              "        vertical-align: middle;\n",
              "    }\n",
              "\n",
              "    .dataframe tbody tr th {\n",
              "        vertical-align: top;\n",
              "    }\n",
              "\n",
              "    .dataframe thead th {\n",
              "        text-align: right;\n",
              "    }\n",
              "</style>\n",
              "<table border=\"1\" class=\"dataframe\">\n",
              "  <thead>\n",
              "    <tr style=\"text-align: right;\">\n",
              "      <th></th>\n",
              "      <th>id</th>\n",
              "      <th>x_e_out [-]</th>\n",
              "    </tr>\n",
              "  </thead>\n",
              "  <tbody>\n",
              "    <tr>\n",
              "      <th>0</th>\n",
              "      <td>4</td>\n",
              "      <td>0.0</td>\n",
              "    </tr>\n",
              "    <tr>\n",
              "      <th>1</th>\n",
              "      <td>7</td>\n",
              "      <td>0.0</td>\n",
              "    </tr>\n",
              "    <tr>\n",
              "      <th>2</th>\n",
              "      <td>10</td>\n",
              "      <td>0.0</td>\n",
              "    </tr>\n",
              "    <tr>\n",
              "      <th>3</th>\n",
              "      <td>12</td>\n",
              "      <td>0.0</td>\n",
              "    </tr>\n",
              "    <tr>\n",
              "      <th>4</th>\n",
              "      <td>23</td>\n",
              "      <td>0.0</td>\n",
              "    </tr>\n",
              "  </tbody>\n",
              "</table>\n",
              "</div>\n",
              "      <button class=\"colab-df-convert\" onclick=\"convertToInteractive('df-8a397813-f63f-4d86-bc27-f801201ad2a2')\"\n",
              "              title=\"Convert this dataframe to an interactive table.\"\n",
              "              style=\"display:none;\">\n",
              "        \n",
              "  <svg xmlns=\"http://www.w3.org/2000/svg\" height=\"24px\"viewBox=\"0 0 24 24\"\n",
              "       width=\"24px\">\n",
              "    <path d=\"M0 0h24v24H0V0z\" fill=\"none\"/>\n",
              "    <path d=\"M18.56 5.44l.94 2.06.94-2.06 2.06-.94-2.06-.94-.94-2.06-.94 2.06-2.06.94zm-11 1L8.5 8.5l.94-2.06 2.06-.94-2.06-.94L8.5 2.5l-.94 2.06-2.06.94zm10 10l.94 2.06.94-2.06 2.06-.94-2.06-.94-.94-2.06-.94 2.06-2.06.94z\"/><path d=\"M17.41 7.96l-1.37-1.37c-.4-.4-.92-.59-1.43-.59-.52 0-1.04.2-1.43.59L10.3 9.45l-7.72 7.72c-.78.78-.78 2.05 0 2.83L4 21.41c.39.39.9.59 1.41.59.51 0 1.02-.2 1.41-.59l7.78-7.78 2.81-2.81c.8-.78.8-2.07 0-2.86zM5.41 20L4 18.59l7.72-7.72 1.47 1.35L5.41 20z\"/>\n",
              "  </svg>\n",
              "      </button>\n",
              "      \n",
              "  <style>\n",
              "    .colab-df-container {\n",
              "      display:flex;\n",
              "      flex-wrap:wrap;\n",
              "      gap: 12px;\n",
              "    }\n",
              "\n",
              "    .colab-df-convert {\n",
              "      background-color: #E8F0FE;\n",
              "      border: none;\n",
              "      border-radius: 50%;\n",
              "      cursor: pointer;\n",
              "      display: none;\n",
              "      fill: #1967D2;\n",
              "      height: 32px;\n",
              "      padding: 0 0 0 0;\n",
              "      width: 32px;\n",
              "    }\n",
              "\n",
              "    .colab-df-convert:hover {\n",
              "      background-color: #E2EBFA;\n",
              "      box-shadow: 0px 1px 2px rgba(60, 64, 67, 0.3), 0px 1px 3px 1px rgba(60, 64, 67, 0.15);\n",
              "      fill: #174EA6;\n",
              "    }\n",
              "\n",
              "    [theme=dark] .colab-df-convert {\n",
              "      background-color: #3B4455;\n",
              "      fill: #D2E3FC;\n",
              "    }\n",
              "\n",
              "    [theme=dark] .colab-df-convert:hover {\n",
              "      background-color: #434B5C;\n",
              "      box-shadow: 0px 1px 3px 1px rgba(0, 0, 0, 0.15);\n",
              "      filter: drop-shadow(0px 1px 2px rgba(0, 0, 0, 0.3));\n",
              "      fill: #FFFFFF;\n",
              "    }\n",
              "  </style>\n",
              "\n",
              "      <script>\n",
              "        const buttonEl =\n",
              "          document.querySelector('#df-8a397813-f63f-4d86-bc27-f801201ad2a2 button.colab-df-convert');\n",
              "        buttonEl.style.display =\n",
              "          google.colab.kernel.accessAllowed ? 'block' : 'none';\n",
              "\n",
              "        async function convertToInteractive(key) {\n",
              "          const element = document.querySelector('#df-8a397813-f63f-4d86-bc27-f801201ad2a2');\n",
              "          const dataTable =\n",
              "            await google.colab.kernel.invokeFunction('convertToInteractive',\n",
              "                                                     [key], {});\n",
              "          if (!dataTable) return;\n",
              "\n",
              "          const docLinkHtml = 'Like what you see? Visit the ' +\n",
              "            '<a target=\"_blank\" href=https://colab.research.google.com/notebooks/data_table.ipynb>data table notebook</a>'\n",
              "            + ' to learn more about interactive tables.';\n",
              "          element.innerHTML = '';\n",
              "          dataTable['output_type'] = 'display_data';\n",
              "          await google.colab.output.renderOutput(dataTable, element);\n",
              "          const docLink = document.createElement('div');\n",
              "          docLink.innerHTML = docLinkHtml;\n",
              "          element.appendChild(docLink);\n",
              "        }\n",
              "      </script>\n",
              "    </div>\n",
              "  </div>\n",
              "  "
            ]
          },
          "metadata": {},
          "execution_count": 85
        }
      ]
    },
    {
      "cell_type": "code",
      "source": [
        "df_submission0 = pd.DataFrame({'id': first_try.index, 'x_e_out [-]': first_try.values})\n",
        "\n",
        "df_submission0.to_csv('submission.csv', index=False)"
      ],
      "metadata": {
        "id": "yUpaxIPgq4D6"
      },
      "execution_count": 92,
      "outputs": []
    },
    {
      "cell_type": "code",
      "source": [],
      "metadata": {
        "id": "HpmMtbCVr52a"
      },
      "execution_count": null,
      "outputs": []
    }
  ]
}